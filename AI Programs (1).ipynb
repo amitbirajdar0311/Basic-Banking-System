{
 "cells": [
  {
   "cell_type": "code",
   "execution_count": 58,
   "id": "6883ab90",
   "metadata": {},
   "outputs": [
    {
     "name": "stdout",
     "output_type": "stream",
     "text": [
      "A\n",
      "B\n",
      "E\n",
      "C\n",
      "D\n"
     ]
    }
   ],
   "source": [
    "#DFS\n",
    "def dfs(visited, graph, root):\n",
    "    if root not in visited:\n",
    "        print (root)\n",
    "        visited.add(root)\n",
    "        for i in graph[root]:\n",
    "            dfs(visited, graph, i)\n",
    "    \n",
    "graph = {'A' : ['B', 'C', 'D'], 'B': ['E'], 'C': ['D', 'E'], 'D': [], 'E': []}\n",
    "visited = set()\n",
    "\n",
    "dfs(visited, graph, 'A')"
   ]
  },
  {
   "cell_type": "code",
   "execution_count": 65,
   "id": "64ff9704",
   "metadata": {},
   "outputs": [
    {
     "name": "stdout",
     "output_type": "stream",
     "text": [
      "{0, 1, 2, 3, 4}\n"
     ]
    }
   ],
   "source": [
    "#BFS\n",
    "\n",
    "import collections\n",
    "\n",
    "def bfs(graph, root):\n",
    "    visited = set()\n",
    "    queue = collections.deque([root])\n",
    "    \n",
    "    while queue:\n",
    "        vertex = queue.popleft()\n",
    "        visited.add(vertex)\n",
    "        for i in graph[vertex]:\n",
    "            if i not in visited:\n",
    "                queue.append(i)\n",
    "    print (visited)\n",
    "\n",
    "graph = { 1: [0,2],0: [1,3,2], 2: [0,1,4], 3:[0], 4: [2]}\n",
    "bfs(graph, 1)\n",
    "\n"
   ]
  },
  {
   "cell_type": "code",
   "execution_count": 26,
   "id": "8a47c66a",
   "metadata": {},
   "outputs": [
    {
     "name": "stdout",
     "output_type": "stream",
     "text": [
      "Path found: ['A', 'B', 'D']\n"
     ]
    },
    {
     "data": {
      "text/plain": [
       "['A', 'B', 'D']"
      ]
     },
     "execution_count": 26,
     "metadata": {},
     "output_type": "execute_result"
    }
   ],
   "source": [
    "#!/usr/bin/env python\n",
    "# https://www.pythonpool.com/a-star-algorithm-python/#:~:text=A*%20Algorithm%20in%20Python%20or,a%20wide%20range%20of%20contexts.\n",
    "\n",
    "from collections import deque\n",
    " \n",
    "class Graph:\n",
    "    def __init__(self, adjac_lis):\n",
    "        self.adjac_lis = adjac_lis\n",
    " \n",
    "    def get_neighbors(self, v):\n",
    "        return self.adjac_lis[v]\n",
    " \n",
    "    def h(self, n):\n",
    "        H = {\n",
    "            'A': 1,\n",
    "            'B': 2,\n",
    "            'C': 1,\n",
    "            'D': 1\n",
    "        }\n",
    " \n",
    "        return H[n]\n",
    " \n",
    "    def a_star_algorithm(self, start, stop):\n",
    "        open_lst = set([start])\n",
    "        closed_lst = set([])\n",
    " \n",
    "        g = {}\n",
    "        g[start] = 0\n",
    " \n",
    "        mp = {}\n",
    "        mp[start] = start\n",
    " \n",
    "        while len(open_lst) > 0:\n",
    "            n = None\n",
    " \n",
    "            for v in open_lst:\n",
    "                if n == None or g[v] + self.h(v) < g[n] + self.h(n):\n",
    "                    n = v;\n",
    " \n",
    "            if n == None:\n",
    "                print('Path does not exist!')\n",
    "                return None\n",
    " \n",
    "            if n == stop:\n",
    "                reconst_path = []\n",
    " \n",
    "                while mp[n] != n:\n",
    "                    reconst_path.append(n)\n",
    "                    n = mp[n]\n",
    " \n",
    "                reconst_path.append(start)\n",
    " \n",
    "                reconst_path.reverse()\n",
    " \n",
    "                print('Path found: {}'.format(reconst_path))\n",
    "                return reconst_path\n",
    " \n",
    "            for (m, weight) in self.get_neighbors(n):\n",
    "\n",
    "                if m not in open_lst and m not in closed_lst:\n",
    "                    open_lst.add(m)\n",
    "                    mp[m] = n\n",
    "                    g[m] = g[n] + weight\n",
    "                else:\n",
    "                    if g[m] > g[n] + weight:\n",
    "                        g[m] = g[n] + weight\n",
    "                        mp[m] = n\n",
    " \n",
    "                        if m in closed_lst:\n",
    "                            closed_lst.remove(m)\n",
    "                            open_lst.add(m)\n",
    " \n",
    "            open_lst.remove(n)\n",
    "            closed_lst.add(n)\n",
    " \n",
    "        print('Path does not exist!')\n",
    "        return None\n",
    "\n",
    "adjac_lis = {\n",
    "    'A': [('B', 1), ('C', 3), ('D', 7)],\n",
    "    'B': [('D', 5)],\n",
    "    'C': [('D', 12)]\n",
    "}\n",
    "graph1 = Graph(adjac_lis)\n",
    "graph1.a_star_algorithm('A', 'D')"
   ]
  },
  {
   "cell_type": "code",
   "execution_count": 47,
   "id": "25bec3cf",
   "metadata": {},
   "outputs": [
    {
     "name": "stdout",
     "output_type": "stream",
     "text": [
      "Sorted array\n",
      "11\n",
      "12\n",
      "22\n",
      "25\n",
      "64\n"
     ]
    }
   ],
   "source": [
    "#  Selection Sort\n",
    "# https://www.geeksforgeeks.org/python-program-for-selection-sort/\n",
    "\n",
    "import sys\n",
    "A = [64, 25, 12, 22, 11]\n",
    "\n",
    "for i in range(len(A)):\n",
    "    min_idx = i\n",
    "    for j in range(i+1, len(A)):\n",
    "        if A[min_idx] > A[j]:\n",
    "            min_idx = j\n",
    "\n",
    "    A[i], A[min_idx] = A[min_idx], A[i]\n",
    "\n",
    "print (\"Sorted array\")\n",
    "for i in range(len(A)):\n",
    "    print(\"%d\" %A[i])\n"
   ]
  },
  {
   "cell_type": "code",
   "execution_count": 61,
   "id": "ec901a5d",
   "metadata": {},
   "outputs": [
    {
     "name": "stdout",
     "output_type": "stream",
     "text": [
      "{'A': 'Red', 'K': 'Blue', 'T': 'Green', 'j': 'Red'}\n"
     ]
    }
   ],
   "source": [
    "colors = ['Red', 'Blue', 'Green', 'Yellow', 'Black']\n",
    "\n",
    "states = ['A', 'K', 'T', 'j']\n",
    "\n",
    "neighbors = {}\n",
    "neighbors['A'] = ['K', 'T']\n",
    "neighbors['K'] = ['A', 'T', 'j']\n",
    "neighbors['T'] = ['A', 'K']\n",
    "neighbors['j'] = ['K', 'T']\n",
    "\n",
    "colors_of_states = {}\n",
    "\n",
    "def promising(state, color):\n",
    "    for neighbor in neighbors.get(state): \n",
    "        color_of_neighbor = colors_of_states.get(neighbor)\n",
    "        if color_of_neighbor == color:\n",
    "            return False\n",
    "    return True\n",
    "\n",
    "def get_color_for_state(state):\n",
    "    for color in colors:\n",
    "        if promising(state, color):\n",
    "            return color\n",
    "\n",
    "def main():\n",
    "    for state in states:\n",
    "        colors_of_states[state] = get_color_for_state(state)\n",
    "    print (colors_of_states)\n",
    "\n",
    "\n",
    "main()"
   ]
  },
  {
   "cell_type": "code",
   "execution_count": null,
   "id": "2b8db15d",
   "metadata": {},
   "outputs": [],
   "source": [
    "go:-\n",
    "hypothesis(Patient,Disease),\n",
    "write_list([Patient,', probably has ',Disease,'.']),nl.\n",
    "\n",
    "go :-\n",
    "write('Sorry, I dont seem to be able to'),nl,\n",
    "write('diagnose the disease.'),nl.\n",
    "\n",
    "symptom(Patient,headache) :- \n",
    "verify(Patient,\" have a headache (y/n) ?\").\n",
    "symptom(Patient,runny_nose) :- \n",
    "verify(Patient,\" have a runny_nose (y/n) ?\").\n",
    "symptom(Patient,chills) :- \n",
    "verify(Patient,\" have a chills (y/n) ?\").\n",
    "symptom(Patient,sore_throat) :- \n",
    "verify(Patient,\" have a sore_throat (y/n) ?\").\n",
    "symptom(Patient,sneezing) :- \n",
    "verify(Patient,\" have a sneezing (y/n) ?\").\n",
    "\n",
    "\n",
    "ask(Patient,Question) :-\n",
    "\twrite(Patient),write(', do you'),write(Question),\n",
    "\tread(N),\n",
    "\t( (N == yes ; N == y)\n",
    "      ->\n",
    "       assert(yes(Question)) ;\n",
    "       assert(no(Question)), fail).\n",
    "\t\n",
    ":- dynamic yes/1,no/1.\t\t\n",
    "\t\n",
    "verify(P,S) :-\n",
    "   (yes(S) -> true ;\n",
    "    (no(S) -> fail ;\n",
    "     ask(P,S))).\n",
    "\t \n",
    "undo :- retract(yes(_)),fail. \n",
    "undo :- retract(no(_)),fail.\n",
    "undo.\n",
    "\n",
    "hypothesis(Patient,common_cold) :-\n",
    "symptom(Patient,headache),\n",
    "symptom(Patient,sneezing),\n",
    "symptom(Patient,sore_throat),\n",
    "symptom(Patient,runny_nose),\n",
    "symptom(Patient,chills).\n",
    "\n",
    "write_list([]).\n",
    "write_list([Term| Terms]) :-\n",
    "write(Term),\n",
    "write_list(Terms).\n",
    "\n",
    "response(Reply) :-\n",
    "get_single_char(Code),\n",
    "put_code(Code), nl,\n",
    "char_code(Reply, Code)."
   ]
  },
  {
   "cell_type": "code",
   "execution_count": null,
   "id": "7533857c",
   "metadata": {},
   "outputs": [],
   "source": [
    "swish.swi-prolog.org -- Editor"
   ]
  },
  {
   "cell_type": "code",
   "execution_count": 64,
   "id": "2d8b1e21",
   "metadata": {},
   "outputs": [
    {
     "name": "stdout",
     "output_type": "stream",
     "text": [
      "Enter the number of queens\n",
      "9\n",
      "[1, 0, 0, 0, 0, 0, 0, 0, 0]\n",
      "[0, 0, 1, 0, 0, 0, 0, 0, 0]\n",
      "[0, 0, 0, 0, 0, 1, 0, 0, 0]\n",
      "[0, 0, 0, 0, 0, 0, 0, 1, 0]\n",
      "[0, 1, 0, 0, 0, 0, 0, 0, 0]\n",
      "[0, 0, 0, 1, 0, 0, 0, 0, 0]\n",
      "[0, 0, 0, 0, 0, 0, 0, 0, 1]\n",
      "[0, 0, 0, 0, 0, 0, 1, 0, 0]\n",
      "[0, 0, 0, 0, 1, 0, 0, 0, 0]\n"
     ]
    }
   ],
   "source": [
    "#Number of queens\n",
    "print (\"Enter the number of queens\")\n",
    "N = int(input())\n",
    "\n",
    "#chessboard\n",
    "#NxN matrix with all elements 0\n",
    "board = [[0]*N for _ in range(N)]\n",
    "\n",
    "def is_attack(i, j):\n",
    "    #checking if there is a queen in row or column\n",
    "    for k in range(0,N):\n",
    "        if board[i][k]==1 or board[k][j]==1:\n",
    "            return True\n",
    "    #checking diagonals\n",
    "    for k in range(0,N):\n",
    "        for l in range(0,N):\n",
    "            if (k+l==i+j) or (k-l==i-j):\n",
    "                if board[k][l]==1:\n",
    "                    return True\n",
    "    return False\n",
    "\n",
    "def N_queen(n):\n",
    "    #if n is 0, solution found\n",
    "    if n==0:\n",
    "        return True\n",
    "    for i in range(0,N):\n",
    "        for j in range(0,N):\n",
    "            '''checking if we can place a queen here or not\n",
    "            queen will not be placed if the place is being attacked\n",
    "            or already occupied'''\n",
    "            if (not(is_attack(i,j))) and (board[i][j]!=1):\n",
    "                board[i][j] = 1\n",
    "                #recursion\n",
    "                #wether we can put the next queen with this arrangment or not\n",
    "                if N_queen(n-1)==True:\n",
    "                    return True\n",
    "                board[i][j] = 0\n",
    "\n",
    "    return False\n",
    "\n",
    "N_queen(N)\n",
    "for i in board:\n",
    "    print (i)"
   ]
  },
  {
   "cell_type": "code",
   "execution_count": null,
   "id": "2d15a4dd",
   "metadata": {},
   "outputs": [],
   "source": []
  }
 ],
 "metadata": {
  "kernelspec": {
   "display_name": "Python 3 (ipykernel)",
   "language": "python",
   "name": "python3"
  },
  "language_info": {
   "codemirror_mode": {
    "name": "ipython",
    "version": 3
   },
   "file_extension": ".py",
   "mimetype": "text/x-python",
   "name": "python",
   "nbconvert_exporter": "python",
   "pygments_lexer": "ipython3",
   "version": "3.9.7"
  }
 },
 "nbformat": 4,
 "nbformat_minor": 5
}
